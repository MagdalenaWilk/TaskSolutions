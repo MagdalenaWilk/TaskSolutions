{
 "cells": [
  {
   "metadata": {},
   "cell_type": "markdown",
   "source": "# Analytics for Data Products IDEs",
   "id": "b96f318736c2354f"
  },
  {
   "cell_type": "code",
   "id": "initial_id",
   "metadata": {
    "collapsed": true,
    "ExecuteTime": {
     "end_time": "2025-10-31T15:03:13.070877Z",
     "start_time": "2025-10-31T15:03:05.510780Z"
    }
   },
   "source": [
    "import numpy as np\n",
    "import pandas as pd\n",
    "import matplotlib.pyplot as plt\n",
    "from nbclient.client import timestamp"
   ],
   "outputs": [],
   "execution_count": 1
  },
  {
   "metadata": {},
   "cell_type": "markdown",
   "source": "In this task we use Pandas, as it is the simplest way to load, preprocess, clean, and analyse the data. The dataset is quite small (a little more than 3500 records), so there is no sense to use more advanced libraries, such as PySpark, which is dedicated to Big Data.",
   "id": "d301ff67b1b1d13a"
  },
  {
   "metadata": {},
   "cell_type": "markdown",
   "source": [
    "## Data loading and preprocessing\n",
    "\n",
    "We load the data into Pandas DataFrame and print basic information about it. We can see that data is not clean, there is more *'opened'* events than *'closed'* events and many windows for the same user."
   ],
   "id": "97444c842e3308f6"
  },
  {
   "metadata": {
    "ExecuteTime": {
     "end_time": "2025-10-31T15:16:43.966639Z",
     "start_time": "2025-10-31T15:16:43.878478Z"
    }
   },
   "cell_type": "code",
   "source": [
    "data = pd.read_csv(\"toolwindow_data.csv\")\n",
    "data.head(10)"
   ],
   "id": "715df13401f04345",
   "outputs": [
    {
     "data": {
      "text/plain": [
       "       timestamp   event open_type  user_id\n",
       "0  1752250204033  opened    manual        1\n",
       "1  1751836141616  closed       NaN        2\n",
       "2  1752304475081  closed       NaN        3\n",
       "3  1752498934494  opened      auto        4\n",
       "4  1752141991110  closed       NaN        5\n",
       "5  1752308210458  opened      auto        3\n",
       "6  1752310292657  opened      auto        3\n",
       "7  1752276666919  closed       NaN        6\n",
       "8  1752158089077  opened      auto        5\n",
       "9  1752174540366  opened      auto        7"
      ],
      "text/html": [
       "<div>\n",
       "<style scoped>\n",
       "    .dataframe tbody tr th:only-of-type {\n",
       "        vertical-align: middle;\n",
       "    }\n",
       "\n",
       "    .dataframe tbody tr th {\n",
       "        vertical-align: top;\n",
       "    }\n",
       "\n",
       "    .dataframe thead th {\n",
       "        text-align: right;\n",
       "    }\n",
       "</style>\n",
       "<table border=\"1\" class=\"dataframe\">\n",
       "  <thead>\n",
       "    <tr style=\"text-align: right;\">\n",
       "      <th></th>\n",
       "      <th>timestamp</th>\n",
       "      <th>event</th>\n",
       "      <th>open_type</th>\n",
       "      <th>user_id</th>\n",
       "    </tr>\n",
       "  </thead>\n",
       "  <tbody>\n",
       "    <tr>\n",
       "      <th>0</th>\n",
       "      <td>1752250204033</td>\n",
       "      <td>opened</td>\n",
       "      <td>manual</td>\n",
       "      <td>1</td>\n",
       "    </tr>\n",
       "    <tr>\n",
       "      <th>1</th>\n",
       "      <td>1751836141616</td>\n",
       "      <td>closed</td>\n",
       "      <td>NaN</td>\n",
       "      <td>2</td>\n",
       "    </tr>\n",
       "    <tr>\n",
       "      <th>2</th>\n",
       "      <td>1752304475081</td>\n",
       "      <td>closed</td>\n",
       "      <td>NaN</td>\n",
       "      <td>3</td>\n",
       "    </tr>\n",
       "    <tr>\n",
       "      <th>3</th>\n",
       "      <td>1752498934494</td>\n",
       "      <td>opened</td>\n",
       "      <td>auto</td>\n",
       "      <td>4</td>\n",
       "    </tr>\n",
       "    <tr>\n",
       "      <th>4</th>\n",
       "      <td>1752141991110</td>\n",
       "      <td>closed</td>\n",
       "      <td>NaN</td>\n",
       "      <td>5</td>\n",
       "    </tr>\n",
       "    <tr>\n",
       "      <th>5</th>\n",
       "      <td>1752308210458</td>\n",
       "      <td>opened</td>\n",
       "      <td>auto</td>\n",
       "      <td>3</td>\n",
       "    </tr>\n",
       "    <tr>\n",
       "      <th>6</th>\n",
       "      <td>1752310292657</td>\n",
       "      <td>opened</td>\n",
       "      <td>auto</td>\n",
       "      <td>3</td>\n",
       "    </tr>\n",
       "    <tr>\n",
       "      <th>7</th>\n",
       "      <td>1752276666919</td>\n",
       "      <td>closed</td>\n",
       "      <td>NaN</td>\n",
       "      <td>6</td>\n",
       "    </tr>\n",
       "    <tr>\n",
       "      <th>8</th>\n",
       "      <td>1752158089077</td>\n",
       "      <td>opened</td>\n",
       "      <td>auto</td>\n",
       "      <td>5</td>\n",
       "    </tr>\n",
       "    <tr>\n",
       "      <th>9</th>\n",
       "      <td>1752174540366</td>\n",
       "      <td>opened</td>\n",
       "      <td>auto</td>\n",
       "      <td>7</td>\n",
       "    </tr>\n",
       "  </tbody>\n",
       "</table>\n",
       "</div>"
      ]
     },
     "execution_count": 2,
     "metadata": {},
     "output_type": "execute_result"
    }
   ],
   "execution_count": 2
  },
  {
   "metadata": {
    "ExecuteTime": {
     "end_time": "2025-10-30T16:50:18.898326Z",
     "start_time": "2025-10-30T16:50:18.873001Z"
    }
   },
   "cell_type": "code",
   "source": "data.info()",
   "id": "9ff055b065f9816",
   "outputs": [
    {
     "name": "stdout",
     "output_type": "stream",
     "text": [
      "<class 'pandas.core.frame.DataFrame'>\n",
      "RangeIndex: 3503 entries, 0 to 3502\n",
      "Data columns (total 4 columns):\n",
      " #   Column     Non-Null Count  Dtype \n",
      "---  ------     --------------  ----- \n",
      " 0   timestamp  3503 non-null   int64 \n",
      " 1   event      3503 non-null   object\n",
      " 2   open_type  1865 non-null   object\n",
      " 3   user_id    3503 non-null   int64 \n",
      "dtypes: int64(2), object(2)\n",
      "memory usage: 109.6+ KB\n"
     ]
    }
   ],
   "execution_count": 16
  },
  {
   "metadata": {
    "ExecuteTime": {
     "end_time": "2025-10-30T10:08:04.048209Z",
     "start_time": "2025-10-30T10:08:04.041976Z"
    }
   },
   "cell_type": "code",
   "source": "data['event'].value_counts()",
   "id": "7a23dd10d594e3cb",
   "outputs": [
    {
     "data": {
      "text/plain": [
       "event\n",
       "opened    1865\n",
       "closed    1638\n",
       "Name: count, dtype: int64"
      ]
     },
     "execution_count": 5,
     "metadata": {},
     "output_type": "execute_result"
    }
   ],
   "execution_count": 5
  },
  {
   "metadata": {
    "ExecuteTime": {
     "end_time": "2025-10-30T10:14:27.561081Z",
     "start_time": "2025-10-30T10:14:27.553658Z"
    }
   },
   "cell_type": "code",
   "source": "data['user_id'].value_counts()",
   "id": "5a326c107e71f98f",
   "outputs": [
    {
     "data": {
      "text/plain": [
       "user_id\n",
       "15     188\n",
       "12     162\n",
       "10     160\n",
       "25     137\n",
       "28     126\n",
       "      ... \n",
       "186      1\n",
       "197      1\n",
       "202      1\n",
       "204      1\n",
       "205      1\n",
       "Name: count, Length: 205, dtype: int64"
      ]
     },
     "execution_count": 9,
     "metadata": {},
     "output_type": "execute_result"
    }
   ],
   "execution_count": 9
  },
  {
   "metadata": {},
   "cell_type": "markdown",
   "source": [
    "Before we start cleaning dataset we have to make one crucial assumption:\n",
    "\n",
    "**Assumption: Each user can have only one window open at a time.**\n",
    "\n",
    "Moreover, we sort the data by *'user_id'* and *'timestamp'* to obtain chronologically sorted events for each user. This way, we are able to match pair events (*'opened'* and *'closed'*)."
   ],
   "id": "6ff2fe028fcbd1f3"
  },
  {
   "metadata": {
    "ExecuteTime": {
     "end_time": "2025-10-31T15:16:49.977861Z",
     "start_time": "2025-10-31T15:16:49.924534Z"
    }
   },
   "cell_type": "code",
   "source": [
    "data_sorted = data.sort_values(by = ['user_id', 'timestamp'])\n",
    "data_sorted.head(10)"
   ],
   "id": "4d143235ac1299f2",
   "outputs": [
    {
     "data": {
      "text/plain": [
       "          timestamp   event open_type  user_id\n",
       "3481  1751826102123  opened      auto        1\n",
       "1803  1751826746077  closed       NaN        1\n",
       "2757  1751841258635  opened    manual        1\n",
       "46    1751849544609  closed       NaN        1\n",
       "1296  1751985487772  opened    manual        1\n",
       "3461  1751986623885  closed       NaN        1\n",
       "0     1752250204033  opened    manual        1\n",
       "1027  1752250204781  closed       NaN        1\n",
       "1013  1752250205587  opened    manual        1\n",
       "1807  1752257432775  closed       NaN        1"
      ],
      "text/html": [
       "<div>\n",
       "<style scoped>\n",
       "    .dataframe tbody tr th:only-of-type {\n",
       "        vertical-align: middle;\n",
       "    }\n",
       "\n",
       "    .dataframe tbody tr th {\n",
       "        vertical-align: top;\n",
       "    }\n",
       "\n",
       "    .dataframe thead th {\n",
       "        text-align: right;\n",
       "    }\n",
       "</style>\n",
       "<table border=\"1\" class=\"dataframe\">\n",
       "  <thead>\n",
       "    <tr style=\"text-align: right;\">\n",
       "      <th></th>\n",
       "      <th>timestamp</th>\n",
       "      <th>event</th>\n",
       "      <th>open_type</th>\n",
       "      <th>user_id</th>\n",
       "    </tr>\n",
       "  </thead>\n",
       "  <tbody>\n",
       "    <tr>\n",
       "      <th>3481</th>\n",
       "      <td>1751826102123</td>\n",
       "      <td>opened</td>\n",
       "      <td>auto</td>\n",
       "      <td>1</td>\n",
       "    </tr>\n",
       "    <tr>\n",
       "      <th>1803</th>\n",
       "      <td>1751826746077</td>\n",
       "      <td>closed</td>\n",
       "      <td>NaN</td>\n",
       "      <td>1</td>\n",
       "    </tr>\n",
       "    <tr>\n",
       "      <th>2757</th>\n",
       "      <td>1751841258635</td>\n",
       "      <td>opened</td>\n",
       "      <td>manual</td>\n",
       "      <td>1</td>\n",
       "    </tr>\n",
       "    <tr>\n",
       "      <th>46</th>\n",
       "      <td>1751849544609</td>\n",
       "      <td>closed</td>\n",
       "      <td>NaN</td>\n",
       "      <td>1</td>\n",
       "    </tr>\n",
       "    <tr>\n",
       "      <th>1296</th>\n",
       "      <td>1751985487772</td>\n",
       "      <td>opened</td>\n",
       "      <td>manual</td>\n",
       "      <td>1</td>\n",
       "    </tr>\n",
       "    <tr>\n",
       "      <th>3461</th>\n",
       "      <td>1751986623885</td>\n",
       "      <td>closed</td>\n",
       "      <td>NaN</td>\n",
       "      <td>1</td>\n",
       "    </tr>\n",
       "    <tr>\n",
       "      <th>0</th>\n",
       "      <td>1752250204033</td>\n",
       "      <td>opened</td>\n",
       "      <td>manual</td>\n",
       "      <td>1</td>\n",
       "    </tr>\n",
       "    <tr>\n",
       "      <th>1027</th>\n",
       "      <td>1752250204781</td>\n",
       "      <td>closed</td>\n",
       "      <td>NaN</td>\n",
       "      <td>1</td>\n",
       "    </tr>\n",
       "    <tr>\n",
       "      <th>1013</th>\n",
       "      <td>1752250205587</td>\n",
       "      <td>opened</td>\n",
       "      <td>manual</td>\n",
       "      <td>1</td>\n",
       "    </tr>\n",
       "    <tr>\n",
       "      <th>1807</th>\n",
       "      <td>1752257432775</td>\n",
       "      <td>closed</td>\n",
       "      <td>NaN</td>\n",
       "      <td>1</td>\n",
       "    </tr>\n",
       "  </tbody>\n",
       "</table>\n",
       "</div>"
      ]
     },
     "execution_count": 3,
     "metadata": {},
     "output_type": "execute_result"
    }
   ],
   "execution_count": 3
  },
  {
   "metadata": {},
   "cell_type": "markdown",
   "source": [
    "We create a list ***windows***, in which we store matched events (also not correctly matched - only open or close event), and a dictionary ***current_windows***, in which we store information about currently open windows for users. Then for each row in DataFrame with sorted data we check which event is it - opened or closed, and if selected user has any window opened.\n",
    "\n",
    "If event is equal 'opened' and user has already opened window, we close the old window without timestamp of closed event. Then and also for other cases, we add information about new window and user to ***current_windows***. When event is equal 'closed', we check if this user has opened window - if yes, then we add information about this window (with opened and closed timestamp) to ***windows*** and remove it form ***current_windows***, otherwise we add only information about this closure (no opened event matched).\n",
    "\n",
    "At the end we add to ***windows*** rows with information about events in ***current_windows*** - these are only opened events without matched closed event. Then we transform ***windows*** into Pandas DataFrame."
   ],
   "id": "df8703a94e9f8f5e"
  },
  {
   "metadata": {
    "ExecuteTime": {
     "end_time": "2025-10-31T15:16:57.579145Z",
     "start_time": "2025-10-31T15:16:57.530239Z"
    }
   },
   "cell_type": "code",
   "source": [
    "windows = []\n",
    "current_windows = {}\n",
    "\n",
    "for row in data_sorted.itertuples():\n",
    "    user = row.user_id\n",
    "    event = row.event\n",
    "    if event == 'opened':\n",
    "        if user in current_windows: # if there is old window opened for user then close it\n",
    "            windows.append([user, current_windows[user]['open_type'], current_windows[user]['timestamp'], None])\n",
    "\n",
    "        # open new window\n",
    "        current_windows[user] = {'open_type': row.open_type, 'timestamp': row.timestamp}\n",
    "\n",
    "    else: # closed\n",
    "        if user in current_windows: # correct open and close\n",
    "            windows.append([user, current_windows[user]['open_type'], current_windows[user]['timestamp'], row.timestamp])\n",
    "            current_windows.pop(user)\n",
    "\n",
    "        else: # user do not have opened window\n",
    "            windows.append([user, None, None, row.timestamp])\n",
    "\n",
    "for user in list(current_windows.keys()): # not closed windows\n",
    "    windows.append([user, current_windows[user]['open_type'], current_windows[user]['timestamp'], None])\n",
    "\n",
    "windows = pd.DataFrame(windows, columns = ['user_id', 'open_type', 'open_timestamp', 'close_timestamp'])\n",
    "windows.head(10)"
   ],
   "id": "cf9ac8c0baef2c3d",
   "outputs": [
    {
     "data": {
      "text/plain": [
       "   user_id open_type  open_timestamp  close_timestamp\n",
       "0        1      auto    1.751826e+12     1.751827e+12\n",
       "1        1    manual    1.751841e+12     1.751850e+12\n",
       "2        1    manual    1.751985e+12     1.751987e+12\n",
       "3        1    manual    1.752250e+12     1.752250e+12\n",
       "4        1    manual    1.752250e+12     1.752257e+12\n",
       "5        1    manual    1.752843e+12     1.752843e+12\n",
       "6        1    manual    1.752843e+12     1.752845e+12\n",
       "7        1    manual    1.752877e+12     1.752885e+12\n",
       "8        1    manual    1.753104e+12     1.753107e+12\n",
       "9        2      auto    1.751656e+12     1.751656e+12"
      ],
      "text/html": [
       "<div>\n",
       "<style scoped>\n",
       "    .dataframe tbody tr th:only-of-type {\n",
       "        vertical-align: middle;\n",
       "    }\n",
       "\n",
       "    .dataframe tbody tr th {\n",
       "        vertical-align: top;\n",
       "    }\n",
       "\n",
       "    .dataframe thead th {\n",
       "        text-align: right;\n",
       "    }\n",
       "</style>\n",
       "<table border=\"1\" class=\"dataframe\">\n",
       "  <thead>\n",
       "    <tr style=\"text-align: right;\">\n",
       "      <th></th>\n",
       "      <th>user_id</th>\n",
       "      <th>open_type</th>\n",
       "      <th>open_timestamp</th>\n",
       "      <th>close_timestamp</th>\n",
       "    </tr>\n",
       "  </thead>\n",
       "  <tbody>\n",
       "    <tr>\n",
       "      <th>0</th>\n",
       "      <td>1</td>\n",
       "      <td>auto</td>\n",
       "      <td>1.751826e+12</td>\n",
       "      <td>1.751827e+12</td>\n",
       "    </tr>\n",
       "    <tr>\n",
       "      <th>1</th>\n",
       "      <td>1</td>\n",
       "      <td>manual</td>\n",
       "      <td>1.751841e+12</td>\n",
       "      <td>1.751850e+12</td>\n",
       "    </tr>\n",
       "    <tr>\n",
       "      <th>2</th>\n",
       "      <td>1</td>\n",
       "      <td>manual</td>\n",
       "      <td>1.751985e+12</td>\n",
       "      <td>1.751987e+12</td>\n",
       "    </tr>\n",
       "    <tr>\n",
       "      <th>3</th>\n",
       "      <td>1</td>\n",
       "      <td>manual</td>\n",
       "      <td>1.752250e+12</td>\n",
       "      <td>1.752250e+12</td>\n",
       "    </tr>\n",
       "    <tr>\n",
       "      <th>4</th>\n",
       "      <td>1</td>\n",
       "      <td>manual</td>\n",
       "      <td>1.752250e+12</td>\n",
       "      <td>1.752257e+12</td>\n",
       "    </tr>\n",
       "    <tr>\n",
       "      <th>5</th>\n",
       "      <td>1</td>\n",
       "      <td>manual</td>\n",
       "      <td>1.752843e+12</td>\n",
       "      <td>1.752843e+12</td>\n",
       "    </tr>\n",
       "    <tr>\n",
       "      <th>6</th>\n",
       "      <td>1</td>\n",
       "      <td>manual</td>\n",
       "      <td>1.752843e+12</td>\n",
       "      <td>1.752845e+12</td>\n",
       "    </tr>\n",
       "    <tr>\n",
       "      <th>7</th>\n",
       "      <td>1</td>\n",
       "      <td>manual</td>\n",
       "      <td>1.752877e+12</td>\n",
       "      <td>1.752885e+12</td>\n",
       "    </tr>\n",
       "    <tr>\n",
       "      <th>8</th>\n",
       "      <td>1</td>\n",
       "      <td>manual</td>\n",
       "      <td>1.753104e+12</td>\n",
       "      <td>1.753107e+12</td>\n",
       "    </tr>\n",
       "    <tr>\n",
       "      <th>9</th>\n",
       "      <td>2</td>\n",
       "      <td>auto</td>\n",
       "      <td>1.751656e+12</td>\n",
       "      <td>1.751656e+12</td>\n",
       "    </tr>\n",
       "  </tbody>\n",
       "</table>\n",
       "</div>"
      ]
     },
     "execution_count": 4,
     "metadata": {},
     "output_type": "execute_result"
    }
   ],
   "execution_count": 4
  },
  {
   "metadata": {
    "ExecuteTime": {
     "end_time": "2025-10-31T15:17:02.081080Z",
     "start_time": "2025-10-31T15:17:02.036076Z"
    }
   },
   "cell_type": "code",
   "source": "windows.info()",
   "id": "5bb018ac41100653",
   "outputs": [
    {
     "name": "stdout",
     "output_type": "stream",
     "text": [
      "<class 'pandas.core.frame.DataFrame'>\n",
      "RangeIndex: 1881 entries, 0 to 1880\n",
      "Data columns (total 4 columns):\n",
      " #   Column           Non-Null Count  Dtype  \n",
      "---  ------           --------------  -----  \n",
      " 0   user_id          1881 non-null   int64  \n",
      " 1   open_type        1865 non-null   object \n",
      " 2   open_timestamp   1865 non-null   float64\n",
      " 3   close_timestamp  1638 non-null   float64\n",
      "dtypes: float64(2), int64(1), object(1)\n",
      "memory usage: 58.9+ KB\n"
     ]
    }
   ],
   "execution_count": 5
  },
  {
   "metadata": {},
   "cell_type": "markdown",
   "source": "This DataFrame still includes orphaned events. Before we start analysing, we remove these events.",
   "id": "5fc5edf327960aa5"
  },
  {
   "metadata": {
    "ExecuteTime": {
     "end_time": "2025-10-31T15:48:20.786528Z",
     "start_time": "2025-10-31T15:48:20.768805Z"
    }
   },
   "cell_type": "code",
   "source": [
    "clean_data = windows.dropna()\n",
    "clean_data.info()"
   ],
   "id": "c7abb35240464165",
   "outputs": [
    {
     "name": "stdout",
     "output_type": "stream",
     "text": [
      "<class 'pandas.core.frame.DataFrame'>\n",
      "Index: 1622 entries, 0 to 1846\n",
      "Data columns (total 4 columns):\n",
      " #   Column           Non-Null Count  Dtype  \n",
      "---  ------           --------------  -----  \n",
      " 0   user_id          1622 non-null   int64  \n",
      " 1   open_type        1622 non-null   object \n",
      " 2   open_timestamp   1622 non-null   float64\n",
      " 3   close_timestamp  1622 non-null   float64\n",
      "dtypes: float64(2), int64(1), object(1)\n",
      "memory usage: 63.4+ KB\n"
     ]
    }
   ],
   "execution_count": 7
  },
  {
   "metadata": {},
   "cell_type": "markdown",
   "source": [
    "Now we have 1622 pairs of events.\n",
    "\n",
    "In next step we transform timestamps in [ms] to datatime format, so we obtain dates and times."
   ],
   "id": "8497f9c51576148a"
  },
  {
   "metadata": {
    "ExecuteTime": {
     "end_time": "2025-10-31T15:50:08.044580Z",
     "start_time": "2025-10-31T15:50:07.966983Z"
    }
   },
   "cell_type": "code",
   "source": [
    "clean_data['open_timestamp'] = pd.to_datetime(clean_data['open_timestamp'], unit='ms', errors='coerce')\n",
    "clean_data['close_timestamp'] = pd.to_datetime(clean_data['close_timestamp'], unit='ms', errors='coerce')\n",
    "\n",
    "clean_data.head(10)"
   ],
   "id": "b7c85689b054879e",
   "outputs": [
    {
     "name": "stderr",
     "output_type": "stream",
     "text": [
      "C:\\Users\\magda\\AppData\\Local\\Temp\\ipykernel_29128\\480690752.py:1: SettingWithCopyWarning: \n",
      "A value is trying to be set on a copy of a slice from a DataFrame.\n",
      "Try using .loc[row_indexer,col_indexer] = value instead\n",
      "\n",
      "See the caveats in the documentation: https://pandas.pydata.org/pandas-docs/stable/user_guide/indexing.html#returning-a-view-versus-a-copy\n",
      "  clean_data['open_timestamp'] = pd.to_datetime(clean_data['open_timestamp'], unit='ms', errors='coerce')\n",
      "C:\\Users\\magda\\AppData\\Local\\Temp\\ipykernel_29128\\480690752.py:2: SettingWithCopyWarning: \n",
      "A value is trying to be set on a copy of a slice from a DataFrame.\n",
      "Try using .loc[row_indexer,col_indexer] = value instead\n",
      "\n",
      "See the caveats in the documentation: https://pandas.pydata.org/pandas-docs/stable/user_guide/indexing.html#returning-a-view-versus-a-copy\n",
      "  clean_data['close_timestamp'] = pd.to_datetime(clean_data['close_timestamp'], unit='ms', errors='coerce')\n"
     ]
    },
    {
     "data": {
      "text/plain": [
       "   user_id open_type          open_timestamp         close_timestamp\n",
       "0        1      auto 2025-07-06 18:21:42.123 2025-07-06 18:32:26.077\n",
       "1        1    manual 2025-07-06 22:34:18.635 2025-07-07 00:52:24.609\n",
       "2        1    manual 2025-07-08 14:38:07.772 2025-07-08 14:57:03.885\n",
       "3        1    manual 2025-07-11 16:10:04.033 2025-07-11 16:10:04.781\n",
       "4        1    manual 2025-07-11 16:10:05.587 2025-07-11 18:10:32.775\n",
       "5        1    manual 2025-07-18 12:56:48.702 2025-07-18 12:57:01.856\n",
       "6        1    manual 2025-07-18 12:57:04.801 2025-07-18 13:24:33.719\n",
       "7        1    manual 2025-07-18 22:17:24.540 2025-07-19 00:22:21.824\n",
       "8        1    manual 2025-07-21 13:27:20.917 2025-07-21 14:07:24.951\n",
       "9        2      auto 2025-07-04 19:09:01.008 2025-07-04 19:09:59.632"
      ],
      "text/html": [
       "<div>\n",
       "<style scoped>\n",
       "    .dataframe tbody tr th:only-of-type {\n",
       "        vertical-align: middle;\n",
       "    }\n",
       "\n",
       "    .dataframe tbody tr th {\n",
       "        vertical-align: top;\n",
       "    }\n",
       "\n",
       "    .dataframe thead th {\n",
       "        text-align: right;\n",
       "    }\n",
       "</style>\n",
       "<table border=\"1\" class=\"dataframe\">\n",
       "  <thead>\n",
       "    <tr style=\"text-align: right;\">\n",
       "      <th></th>\n",
       "      <th>user_id</th>\n",
       "      <th>open_type</th>\n",
       "      <th>open_timestamp</th>\n",
       "      <th>close_timestamp</th>\n",
       "    </tr>\n",
       "  </thead>\n",
       "  <tbody>\n",
       "    <tr>\n",
       "      <th>0</th>\n",
       "      <td>1</td>\n",
       "      <td>auto</td>\n",
       "      <td>2025-07-06 18:21:42.123</td>\n",
       "      <td>2025-07-06 18:32:26.077</td>\n",
       "    </tr>\n",
       "    <tr>\n",
       "      <th>1</th>\n",
       "      <td>1</td>\n",
       "      <td>manual</td>\n",
       "      <td>2025-07-06 22:34:18.635</td>\n",
       "      <td>2025-07-07 00:52:24.609</td>\n",
       "    </tr>\n",
       "    <tr>\n",
       "      <th>2</th>\n",
       "      <td>1</td>\n",
       "      <td>manual</td>\n",
       "      <td>2025-07-08 14:38:07.772</td>\n",
       "      <td>2025-07-08 14:57:03.885</td>\n",
       "    </tr>\n",
       "    <tr>\n",
       "      <th>3</th>\n",
       "      <td>1</td>\n",
       "      <td>manual</td>\n",
       "      <td>2025-07-11 16:10:04.033</td>\n",
       "      <td>2025-07-11 16:10:04.781</td>\n",
       "    </tr>\n",
       "    <tr>\n",
       "      <th>4</th>\n",
       "      <td>1</td>\n",
       "      <td>manual</td>\n",
       "      <td>2025-07-11 16:10:05.587</td>\n",
       "      <td>2025-07-11 18:10:32.775</td>\n",
       "    </tr>\n",
       "    <tr>\n",
       "      <th>5</th>\n",
       "      <td>1</td>\n",
       "      <td>manual</td>\n",
       "      <td>2025-07-18 12:56:48.702</td>\n",
       "      <td>2025-07-18 12:57:01.856</td>\n",
       "    </tr>\n",
       "    <tr>\n",
       "      <th>6</th>\n",
       "      <td>1</td>\n",
       "      <td>manual</td>\n",
       "      <td>2025-07-18 12:57:04.801</td>\n",
       "      <td>2025-07-18 13:24:33.719</td>\n",
       "    </tr>\n",
       "    <tr>\n",
       "      <th>7</th>\n",
       "      <td>1</td>\n",
       "      <td>manual</td>\n",
       "      <td>2025-07-18 22:17:24.540</td>\n",
       "      <td>2025-07-19 00:22:21.824</td>\n",
       "    </tr>\n",
       "    <tr>\n",
       "      <th>8</th>\n",
       "      <td>1</td>\n",
       "      <td>manual</td>\n",
       "      <td>2025-07-21 13:27:20.917</td>\n",
       "      <td>2025-07-21 14:07:24.951</td>\n",
       "    </tr>\n",
       "    <tr>\n",
       "      <th>9</th>\n",
       "      <td>2</td>\n",
       "      <td>auto</td>\n",
       "      <td>2025-07-04 19:09:01.008</td>\n",
       "      <td>2025-07-04 19:09:59.632</td>\n",
       "    </tr>\n",
       "  </tbody>\n",
       "</table>\n",
       "</div>"
      ]
     },
     "execution_count": 9,
     "metadata": {},
     "output_type": "execute_result"
    }
   ],
   "execution_count": 9
  },
  {
   "metadata": {},
   "cell_type": "markdown",
   "source": "Then we calculate how long each window was opened (in seconds), and we save result in new column *opened_time[s]*.",
   "id": "8150db329f04c252"
  },
  {
   "metadata": {
    "ExecuteTime": {
     "end_time": "2025-10-31T16:03:33.745695Z",
     "start_time": "2025-10-31T16:03:33.708884Z"
    }
   },
   "cell_type": "code",
   "source": [
    "clean_data['opened_time[s]'] = (clean_data['close_timestamp'] - clean_data['open_timestamp']).dt.total_seconds()\n",
    "clean_data.head(10)"
   ],
   "id": "eb6e9d73380c1fd3",
   "outputs": [
    {
     "name": "stderr",
     "output_type": "stream",
     "text": [
      "C:\\Users\\magda\\AppData\\Local\\Temp\\ipykernel_29128\\559595878.py:1: SettingWithCopyWarning: \n",
      "A value is trying to be set on a copy of a slice from a DataFrame.\n",
      "Try using .loc[row_indexer,col_indexer] = value instead\n",
      "\n",
      "See the caveats in the documentation: https://pandas.pydata.org/pandas-docs/stable/user_guide/indexing.html#returning-a-view-versus-a-copy\n",
      "  clean_data['opened_time[s]'] = (clean_data['close_timestamp'] - clean_data['open_timestamp']).dt.total_seconds()\n"
     ]
    },
    {
     "data": {
      "text/plain": [
       "   user_id open_type          open_timestamp         close_timestamp  \\\n",
       "0        1      auto 2025-07-06 18:21:42.123 2025-07-06 18:32:26.077   \n",
       "1        1    manual 2025-07-06 22:34:18.635 2025-07-07 00:52:24.609   \n",
       "2        1    manual 2025-07-08 14:38:07.772 2025-07-08 14:57:03.885   \n",
       "3        1    manual 2025-07-11 16:10:04.033 2025-07-11 16:10:04.781   \n",
       "4        1    manual 2025-07-11 16:10:05.587 2025-07-11 18:10:32.775   \n",
       "5        1    manual 2025-07-18 12:56:48.702 2025-07-18 12:57:01.856   \n",
       "6        1    manual 2025-07-18 12:57:04.801 2025-07-18 13:24:33.719   \n",
       "7        1    manual 2025-07-18 22:17:24.540 2025-07-19 00:22:21.824   \n",
       "8        1    manual 2025-07-21 13:27:20.917 2025-07-21 14:07:24.951   \n",
       "9        2      auto 2025-07-04 19:09:01.008 2025-07-04 19:09:59.632   \n",
       "\n",
       "   opened_time[s]  \n",
       "0         643.954  \n",
       "1        8285.974  \n",
       "2        1136.113  \n",
       "3           0.748  \n",
       "4        7227.188  \n",
       "5          13.154  \n",
       "6        1648.918  \n",
       "7        7497.284  \n",
       "8        2404.034  \n",
       "9          58.624  "
      ],
      "text/html": [
       "<div>\n",
       "<style scoped>\n",
       "    .dataframe tbody tr th:only-of-type {\n",
       "        vertical-align: middle;\n",
       "    }\n",
       "\n",
       "    .dataframe tbody tr th {\n",
       "        vertical-align: top;\n",
       "    }\n",
       "\n",
       "    .dataframe thead th {\n",
       "        text-align: right;\n",
       "    }\n",
       "</style>\n",
       "<table border=\"1\" class=\"dataframe\">\n",
       "  <thead>\n",
       "    <tr style=\"text-align: right;\">\n",
       "      <th></th>\n",
       "      <th>user_id</th>\n",
       "      <th>open_type</th>\n",
       "      <th>open_timestamp</th>\n",
       "      <th>close_timestamp</th>\n",
       "      <th>opened_time[s]</th>\n",
       "    </tr>\n",
       "  </thead>\n",
       "  <tbody>\n",
       "    <tr>\n",
       "      <th>0</th>\n",
       "      <td>1</td>\n",
       "      <td>auto</td>\n",
       "      <td>2025-07-06 18:21:42.123</td>\n",
       "      <td>2025-07-06 18:32:26.077</td>\n",
       "      <td>643.954</td>\n",
       "    </tr>\n",
       "    <tr>\n",
       "      <th>1</th>\n",
       "      <td>1</td>\n",
       "      <td>manual</td>\n",
       "      <td>2025-07-06 22:34:18.635</td>\n",
       "      <td>2025-07-07 00:52:24.609</td>\n",
       "      <td>8285.974</td>\n",
       "    </tr>\n",
       "    <tr>\n",
       "      <th>2</th>\n",
       "      <td>1</td>\n",
       "      <td>manual</td>\n",
       "      <td>2025-07-08 14:38:07.772</td>\n",
       "      <td>2025-07-08 14:57:03.885</td>\n",
       "      <td>1136.113</td>\n",
       "    </tr>\n",
       "    <tr>\n",
       "      <th>3</th>\n",
       "      <td>1</td>\n",
       "      <td>manual</td>\n",
       "      <td>2025-07-11 16:10:04.033</td>\n",
       "      <td>2025-07-11 16:10:04.781</td>\n",
       "      <td>0.748</td>\n",
       "    </tr>\n",
       "    <tr>\n",
       "      <th>4</th>\n",
       "      <td>1</td>\n",
       "      <td>manual</td>\n",
       "      <td>2025-07-11 16:10:05.587</td>\n",
       "      <td>2025-07-11 18:10:32.775</td>\n",
       "      <td>7227.188</td>\n",
       "    </tr>\n",
       "    <tr>\n",
       "      <th>5</th>\n",
       "      <td>1</td>\n",
       "      <td>manual</td>\n",
       "      <td>2025-07-18 12:56:48.702</td>\n",
       "      <td>2025-07-18 12:57:01.856</td>\n",
       "      <td>13.154</td>\n",
       "    </tr>\n",
       "    <tr>\n",
       "      <th>6</th>\n",
       "      <td>1</td>\n",
       "      <td>manual</td>\n",
       "      <td>2025-07-18 12:57:04.801</td>\n",
       "      <td>2025-07-18 13:24:33.719</td>\n",
       "      <td>1648.918</td>\n",
       "    </tr>\n",
       "    <tr>\n",
       "      <th>7</th>\n",
       "      <td>1</td>\n",
       "      <td>manual</td>\n",
       "      <td>2025-07-18 22:17:24.540</td>\n",
       "      <td>2025-07-19 00:22:21.824</td>\n",
       "      <td>7497.284</td>\n",
       "    </tr>\n",
       "    <tr>\n",
       "      <th>8</th>\n",
       "      <td>1</td>\n",
       "      <td>manual</td>\n",
       "      <td>2025-07-21 13:27:20.917</td>\n",
       "      <td>2025-07-21 14:07:24.951</td>\n",
       "      <td>2404.034</td>\n",
       "    </tr>\n",
       "    <tr>\n",
       "      <th>9</th>\n",
       "      <td>2</td>\n",
       "      <td>auto</td>\n",
       "      <td>2025-07-04 19:09:01.008</td>\n",
       "      <td>2025-07-04 19:09:59.632</td>\n",
       "      <td>58.624</td>\n",
       "    </tr>\n",
       "  </tbody>\n",
       "</table>\n",
       "</div>"
      ]
     },
     "execution_count": 10,
     "metadata": {},
     "output_type": "execute_result"
    }
   ],
   "execution_count": 10
  },
  {
   "metadata": {},
   "cell_type": "markdown",
   "source": "The DataFrame is ready to analysis.",
   "id": "a793008d4f5e5d95"
  },
  {
   "metadata": {},
   "cell_type": "markdown",
   "source": [
    "## Analysis\n",
    "\n",
    "To begin, we check values counts for column *open_type*.\n",
    "- 1000 windows was opened automatically.\n",
    "- 622 windows was opened manually."
   ],
   "id": "9272522e4d106031"
  },
  {
   "metadata": {
    "ExecuteTime": {
     "end_time": "2025-10-31T16:07:29.602937Z",
     "start_time": "2025-10-31T16:07:29.589178Z"
    }
   },
   "cell_type": "code",
   "source": "clean_data['open_type'].value_counts()",
   "id": "931ee1b8f3c57cae",
   "outputs": [
    {
     "data": {
      "text/plain": [
       "open_type\n",
       "auto      1000\n",
       "manual     622\n",
       "Name: count, dtype: int64"
      ]
     },
     "execution_count": 12,
     "metadata": {},
     "output_type": "execute_result"
    }
   ],
   "execution_count": 12
  },
  {
   "metadata": {},
   "cell_type": "markdown",
   "source": "At the beginning, we calculate basic statistics, such as mean, std, min, median (50%), and max for each *open_type*. We also plot a boxplot to visualize the distribution of window-open durations for the two opening types.",
   "id": "accab8ab98db597f"
  },
  {
   "metadata": {
    "ExecuteTime": {
     "end_time": "2025-10-31T16:12:13.993119Z",
     "start_time": "2025-10-31T16:12:13.953625Z"
    }
   },
   "cell_type": "code",
   "source": [
    "summary = clean_data.groupby('open_type')['opened_time[s]'].describe()\n",
    "summary"
   ],
   "id": "81befc92bce3e396",
   "outputs": [
    {
     "data": {
      "text/plain": [
       "            count         mean           std    min       25%       50%  \\\n",
       "open_type                                                                 \n",
       "auto       1000.0  6323.446365  28626.912755  0.154  35.19550  184.8205   \n",
       "manual      622.0  1470.259863  10725.427369  0.015   2.15125   12.0590   \n",
       "\n",
       "                  75%         max  \n",
       "open_type                          \n",
       "auto       1195.73675  409873.748  \n",
       "manual      135.66375  180918.694  "
      ],
      "text/html": [
       "<div>\n",
       "<style scoped>\n",
       "    .dataframe tbody tr th:only-of-type {\n",
       "        vertical-align: middle;\n",
       "    }\n",
       "\n",
       "    .dataframe tbody tr th {\n",
       "        vertical-align: top;\n",
       "    }\n",
       "\n",
       "    .dataframe thead th {\n",
       "        text-align: right;\n",
       "    }\n",
       "</style>\n",
       "<table border=\"1\" class=\"dataframe\">\n",
       "  <thead>\n",
       "    <tr style=\"text-align: right;\">\n",
       "      <th></th>\n",
       "      <th>count</th>\n",
       "      <th>mean</th>\n",
       "      <th>std</th>\n",
       "      <th>min</th>\n",
       "      <th>25%</th>\n",
       "      <th>50%</th>\n",
       "      <th>75%</th>\n",
       "      <th>max</th>\n",
       "    </tr>\n",
       "    <tr>\n",
       "      <th>open_type</th>\n",
       "      <th></th>\n",
       "      <th></th>\n",
       "      <th></th>\n",
       "      <th></th>\n",
       "      <th></th>\n",
       "      <th></th>\n",
       "      <th></th>\n",
       "      <th></th>\n",
       "    </tr>\n",
       "  </thead>\n",
       "  <tbody>\n",
       "    <tr>\n",
       "      <th>auto</th>\n",
       "      <td>1000.0</td>\n",
       "      <td>6323.446365</td>\n",
       "      <td>28626.912755</td>\n",
       "      <td>0.154</td>\n",
       "      <td>35.19550</td>\n",
       "      <td>184.8205</td>\n",
       "      <td>1195.73675</td>\n",
       "      <td>409873.748</td>\n",
       "    </tr>\n",
       "    <tr>\n",
       "      <th>manual</th>\n",
       "      <td>622.0</td>\n",
       "      <td>1470.259863</td>\n",
       "      <td>10725.427369</td>\n",
       "      <td>0.015</td>\n",
       "      <td>2.15125</td>\n",
       "      <td>12.0590</td>\n",
       "      <td>135.66375</td>\n",
       "      <td>180918.694</td>\n",
       "    </tr>\n",
       "  </tbody>\n",
       "</table>\n",
       "</div>"
      ]
     },
     "execution_count": 13,
     "metadata": {},
     "output_type": "execute_result"
    }
   ],
   "execution_count": 13
  },
  {
   "metadata": {
    "ExecuteTime": {
     "end_time": "2025-10-31T16:35:57.340323Z",
     "start_time": "2025-10-31T16:35:56.624317Z"
    }
   },
   "cell_type": "code",
   "source": [
    "clean_data.boxplot(column='opened_time[s]', by='open_type')\n",
    "plt.title(\"Duration of Tool Window Opening by Open Type\")\n",
    "plt.suptitle(\"\")\n",
    "plt.ylabel(\"Duration (seconds)\")\n",
    "plt.yscale('log')\n",
    "plt.show()"
   ],
   "id": "869dd66bf8fd8234",
   "outputs": [
    {
     "data": {
      "text/plain": [
       "<Figure size 640x480 with 1 Axes>"
      ],
      "image/png": "[encoded data removed]"
     },
     "metadata": {},
     "output_type": "display_data"
    }
   ],
   "execution_count": 19
  },
  {
   "metadata": {},
   "cell_type": "markdown",
   "source": [
    "Boxplot description:\n",
    "- Green lines inside the box present median (50th percentile) - central value.\n",
    "- Box spans from the 1st quartile (25%) to the 3rd quartile (75%). It represents the middle 50% of the data.\n",
    "- Horizontal lines above and below the box (whiskers) show the range of “typical” values.\n",
    "- Points outside the whiskers are outliers - unusually high or low values compared to most observations."
   ],
   "id": "1529222f2ddda224"
  },
  {
   "metadata": {},
   "cell_type": "markdown",
   "source": "The plot shows that there are many outliers. To reduce the influence of these extreme values, we remove outliers by keeping only records where the duration is below the 99th percentile.",
   "id": "e98c2f8fdccac1de"
  },
  {
   "metadata": {
    "ExecuteTime": {
     "end_time": "2025-10-31T16:49:02.106383Z",
     "start_time": "2025-10-31T16:49:02.092899Z"
    }
   },
   "cell_type": "code",
   "source": [
    "quantile99 = clean_data['opened_time[s]'].quantile(0.99)\n",
    "filtered_data = clean_data[clean_data['opened_time[s]'] < quantile99]\n",
    "len(filtered_data)"
   ],
   "id": "af76372576673f7e",
   "outputs": [
    {
     "data": {
      "text/plain": [
       "1605"
      ]
     },
     "execution_count": 32,
     "metadata": {},
     "output_type": "execute_result"
    }
   ],
   "execution_count": 32
  },
  {
   "metadata": {
    "ExecuteTime": {
     "end_time": "2025-10-31T16:49:06.018124Z",
     "start_time": "2025-10-31T16:49:05.985391Z"
    }
   },
   "cell_type": "code",
   "source": [
    "summary2 = filtered_data.groupby('open_type')['opened_time[s]'].describe()\n",
    "summary2"
   ],
   "id": "f3fb0a6a2b916e2e",
   "outputs": [
    {
     "data": {
      "text/plain": [
       "           count         mean           std    min       25%      50%  \\\n",
       "open_type                                                               \n",
       "auto       986.0  3569.577666  12098.341998  0.154  33.44325  173.786   \n",
       "manual     619.0   808.187289   4331.017841  0.015   2.14150   11.921   \n",
       "\n",
       "                 75%        max  \n",
       "open_type                        \n",
       "auto       1085.5995  88750.663  \n",
       "manual      134.3735  58224.159  "
      ],
      "text/html": [
       "<div>\n",
       "<style scoped>\n",
       "    .dataframe tbody tr th:only-of-type {\n",
       "        vertical-align: middle;\n",
       "    }\n",
       "\n",
       "    .dataframe tbody tr th {\n",
       "        vertical-align: top;\n",
       "    }\n",
       "\n",
       "    .dataframe thead th {\n",
       "        text-align: right;\n",
       "    }\n",
       "</style>\n",
       "<table border=\"1\" class=\"dataframe\">\n",
       "  <thead>\n",
       "    <tr style=\"text-align: right;\">\n",
       "      <th></th>\n",
       "      <th>count</th>\n",
       "      <th>mean</th>\n",
       "      <th>std</th>\n",
       "      <th>min</th>\n",
       "      <th>25%</th>\n",
       "      <th>50%</th>\n",
       "      <th>75%</th>\n",
       "      <th>max</th>\n",
       "    </tr>\n",
       "    <tr>\n",
       "      <th>open_type</th>\n",
       "      <th></th>\n",
       "      <th></th>\n",
       "      <th></th>\n",
       "      <th></th>\n",
       "      <th></th>\n",
       "      <th></th>\n",
       "      <th></th>\n",
       "      <th></th>\n",
       "    </tr>\n",
       "  </thead>\n",
       "  <tbody>\n",
       "    <tr>\n",
       "      <th>auto</th>\n",
       "      <td>986.0</td>\n",
       "      <td>3569.577666</td>\n",
       "      <td>12098.341998</td>\n",
       "      <td>0.154</td>\n",
       "      <td>33.44325</td>\n",
       "      <td>173.786</td>\n",
       "      <td>1085.5995</td>\n",
       "      <td>88750.663</td>\n",
       "    </tr>\n",
       "    <tr>\n",
       "      <th>manual</th>\n",
       "      <td>619.0</td>\n",
       "      <td>808.187289</td>\n",
       "      <td>4331.017841</td>\n",
       "      <td>0.015</td>\n",
       "      <td>2.14150</td>\n",
       "      <td>11.921</td>\n",
       "      <td>134.3735</td>\n",
       "      <td>58224.159</td>\n",
       "    </tr>\n",
       "  </tbody>\n",
       "</table>\n",
       "</div>"
      ]
     },
     "execution_count": 33,
     "metadata": {},
     "output_type": "execute_result"
    }
   ],
   "execution_count": 33
  },
  {
   "metadata": {
    "ExecuteTime": {
     "end_time": "2025-10-31T16:49:14.852121Z",
     "start_time": "2025-10-31T16:49:14.256849Z"
    }
   },
   "cell_type": "code",
   "source": [
    "filtered_data.boxplot(column='opened_time[s]', by='open_type')\n",
    "plt.title(\"Duration of Tool Window Opening by Open Type\")\n",
    "plt.suptitle(\"\")\n",
    "plt.ylabel(\"Duration (seconds)\")\n",
    "plt.yscale('log')\n",
    "plt.show()"
   ],
   "id": "49ac5d8a4009ae9a",
   "outputs": [
    {
     "data": {
      "text/plain": [
       "<Figure size 640x480 with 1 Axes>"
      ],
      "image/png": "[encoded data removed]"
     },
     "metadata": {},
     "output_type": "display_data"
    }
   ],
   "execution_count": 34
  },
  {
   "metadata": {},
   "cell_type": "markdown",
   "source": "After this filtering, the maximum values for both open_type categories decreased significantly. However, the median values remained almost unchanged, and a noticeable number of outliers are still present.",
   "id": "7526d9eda7020e6"
  },
  {
   "metadata": {},
   "cell_type": "markdown",
   "source": [
    "To calculate statistically significant we use **Mann–Whitney U Test**.\n",
    "\n",
    "The Mann–Whitney U test is a non-parametric statistical test.\n",
    "We use it to compare two independent groups, but the data does not follow a normal distribution — which is our case:\n",
    "- The duration values have many extreme outliers.\n",
    "- The distribution is highly skewed.\n",
    "- The groups (manual and auto) have different variances.\n",
    "\n",
    "Instead of comparing means directly, it ranks all values from both groups together and checks whether one group tends to have larger ranks than the other. It tests whether one type (manual or auto) tends to have longer open durations than the other."
   ],
   "id": "c7a2b340ea35aaf3"
  },
  {
   "metadata": {
    "ExecuteTime": {
     "end_time": "2025-10-31T16:54:55.805999Z",
     "start_time": "2025-10-31T16:54:55.789174Z"
    }
   },
   "cell_type": "code",
   "source": [
    "from scipy.stats import mannwhitneyu\n",
    "\n",
    "manual = filtered_data[filtered_data['open_type'] == 'manual']['opened_time[s]']\n",
    "auto = filtered_data[filtered_data['open_type'] == 'auto']['opened_time[s]']\n",
    "\n",
    "stat, p = mannwhitneyu(manual, auto, alternative='two-sided')\n",
    "print(f\"U-statistic: {stat}, p-value: {p}\")"
   ],
   "id": "70585f350a7fa171",
   "outputs": [
    {
     "name": "stdout",
     "output_type": "stream",
     "text": [
      "U-statistic: 153827.5, p-value: 6.15991585334434e-63\n"
     ]
    }
   ],
   "execution_count": 35
  },
  {
   "metadata": {},
   "cell_type": "markdown",
   "source": "The p-value is close to 0, what means that the difference is statistically significant, so it is not random chance.",
   "id": "4be863c2137b1086"
  },
  {
   "metadata": {},
   "cell_type": "markdown",
   "source": [
    "## Interpretation\n",
    "\n",
    "Above results show that clear differences in durations of window openings between automatic and manual openings.\n",
    "\n",
    "Automatic openings have a very high average duration and maximum duration. It means that some automatically opened windows remained open for a very long time. The median duration is relatively low, what suggests that most openings are short and only a few extremely long openings increase average duration.\n",
    "\n",
    "Manual openings have a lower mean, median, and maximum duration. This means that users who open window manually usually close it sooner. Long duration sessions are less common in this case.\n",
    "\n",
    "In both cases (auto and manual) the distributions are highly skewed and have many outliers.\n",
    "\n",
    "The Mann–Whitney U test showed that the difference in durations between manual and automatic openings is statistically significant."
   ],
   "id": "eedc5714eb180fff"
  }
 ],
 "metadata": {
  "kernelspec": {
   "display_name": "Python 3",
   "language": "python",
   "name": "python3"
  },
  "language_info": {
   "codemirror_mode": {
    "name": "ipython",
    "version": 2
   },
   "file_extension": ".py",
   "mimetype": "text/x-python",
   "name": "python",
   "nbconvert_exporter": "python",
   "pygments_lexer": "ipython2",
   "version": "2.7.6"
  }
 },
 "nbformat": 4,
 "nbformat_minor": 5
}
